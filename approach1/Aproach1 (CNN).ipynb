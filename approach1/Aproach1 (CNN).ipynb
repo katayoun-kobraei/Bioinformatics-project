{
 "cells": [
  {
   "cell_type": "code",
   "execution_count": null,
   "metadata": {
    "collapsed": true
   },
   "outputs": [],
   "source": [
    "import csv\n",
    "import sqlite3\n",
    "import time\n",
    "import numpy as np\n",
    "import pandas as pd\n",
    "import os\n",
    "import pickle\n",
    "from pandas import DataFrame\n",
    "from sklearn.model_selection import KFold\n",
    "from sklearn.decomposition import PCA\n",
    "from sklearn.metrics import auc\n",
    "from sklearn.metrics import roc_auc_score\n",
    "from sklearn.metrics import accuracy_score\n",
    "from sklearn.metrics import recall_score\n",
    "from sklearn.metrics import f1_score\n",
    "from sklearn.metrics import precision_score\n",
    "from sklearn.metrics import precision_recall_curve\n",
    "from sklearn.preprocessing import label_binarize\n",
    "\n",
    "import torch\n",
    "from torch import nn"
   ]
  },
  {
   "cell_type": "code",
   "execution_count": null,
   "outputs": [],
   "source": [
    "def prepare_data(df_drug, feature_list, df_interaction):\n",
    "    event_count = {}\n",
    "\n",
    "    # Combine mechanisms and actions into a single event list\n",
    "    df_interaction['event'] = df_interaction['mechanism'] + ' ' + df_interaction['action']\n",
    "\n",
    "    df_interaction.drop(columns=['mechanism', 'action'], inplace=True)\n",
    "\n",
    "    # Create feature vectors for drugs\n",
    "    drug_names = np.array(df_drug['name']).tolist()\n",
    "    feature_vectors = np.array([create_feature_vector(feature, df_drug) for feature in feature_list])\n",
    "\n",
    "    # Map drug names to their feature vectors\n",
    "    drug_features = {name: feature_vectors[:, :, index] for index, name in enumerate(drug_names)}\n",
    "\n",
    "    # Generate the dataset\n",
    "    DDE(drug_features, df_interaction)\n",
    "\n",
    "def DDE(drug_features, df_interaction):\n",
    "\n",
    "    for index, row in df_interaction.iterrows():\n",
    "        event = row['event']\n",
    "        drugA = row['drugA']\n",
    "        drugB = row['drugB']\n",
    "        drug_features_a = drug_features[drugA]\n",
    "        drug_features_b = drug_features[drugB]\n",
    "        drug_final = np.concatenate((drug_features_a, drug_features_b), axis=0)\n",
    "        # Create a folder with the name of the event if it doesn't already exist\n",
    "        os.makedirs('ddset/'+ event, exist_ok=True)\n",
    "\n",
    "        # Save the drug_final array to a file named index within the event folder\n",
    "        np.save(f'ddset/{event}/{index}.npy', drug_final)\n",
    "\n",
    "\n",
    "def create_feature_vector(feature_name, df):\n",
    "    def jaccard_similarity(matrix):\n",
    "        mat = np.mat(matrix)\n",
    "        numerator = mat * mat.T\n",
    "        denominator = np.ones(np.shape(mat)) * mat.T + mat * np.ones(np.shape(mat.T)) - mat * mat.T\n",
    "        return numerator / denominator\n",
    "\n",
    "    all_features = []\n",
    "    drug_features = np.array(df[feature_name]).tolist()\n",
    "\n",
    "    # Get all unique features\n",
    "    for feature_set in drug_features:\n",
    "        for feature in feature_set.split('|'):\n",
    "            if feature not in all_features:\n",
    "                all_features.append(feature)\n",
    "\n",
    "    # Create a binary feature matrix\n",
    "    feature_matrix = np.zeros((len(drug_features), len(all_features)), dtype=float)\n",
    "    df_feature = DataFrame(feature_matrix, columns=all_features)\n",
    "\n",
    "    for i, feature_set in enumerate(drug_features):\n",
    "        for feature in feature_set.split('|'):\n",
    "            df_feature[feature].iloc[i] = 1\n",
    "\n",
    "    # Calculate Jaccard similarity matrix and apply PCA\n",
    "    similarity_matrix = jaccard_similarity(np.array(df_feature))\n",
    "\n",
    "    return similarity_matrix"
   ],
   "metadata": {
    "collapsed": false,
    "pycharm": {
     "name": "#%%\n"
    }
   }
  },
  {
   "cell_type": "code",
   "execution_count": null,
   "outputs": [],
   "source": [
    "df_drug = pd.read_csv('/kaggle/input/ddi-data-sets/drug_information_1258.csv')\n",
    "df_event = pd.read_csv('/kaggle/input/ddi-data-sets/drug_interaction.csv')\n",
    "feature_list = df_drug[[\"target\", \"enzyme\",\"smile\"]]"
   ],
   "metadata": {
    "collapsed": false,
    "pycharm": {
     "name": "#%%\n"
    }
   }
  },
  {
   "cell_type": "code",
   "execution_count": null,
   "outputs": [],
   "source": [
    "prepare_data(df_drug, feature_list, df_event)"
   ],
   "metadata": {
    "collapsed": false,
    "pycharm": {
     "name": "#%%\n"
    }
   }
  },
  {
   "cell_type": "code",
   "execution_count": null,
   "outputs": [],
   "source": [
    "import torch\n",
    "import torch.nn as nn\n",
    "from torchvision import transforms, datasets, models\n",
    "import matplotlib.pyplot as plt\n",
    "from torch.utils.data import Dataset\n",
    "from tqdm import tqdm"
   ],
   "metadata": {
    "collapsed": false,
    "pycharm": {
     "name": "#%%\n"
    }
   }
  },
  {
   "cell_type": "code",
   "execution_count": null,
   "outputs": [],
   "source": [
    "class NpyFolder(Dataset):\n",
    "    def __init__(self, root):\n",
    "        self.root = root\n",
    "        self.classes = sorted(os.listdir(root))\n",
    "        self.class_to_idx = {cls: idx for idx, cls in enumerate(self.classes)}\n",
    "        self.samples = []\n",
    "        for cls in self.classes:\n",
    "            cls_dir = os.path.join(root, cls)\n",
    "            for fname in os.listdir(cls_dir):\n",
    "                if fname.endswith('.npy'):\n",
    "                    path = os.path.join(cls_dir, fname)\n",
    "                    item = (path, self.class_to_idx[cls])\n",
    "                    self.samples.append(item)\n",
    "\n",
    "    def __getitem__(self, index):\n",
    "        path, target = self.samples[index]\n",
    "        data = np.load(path)\n",
    "        return data, target\n",
    "\n",
    "    def __len__(self):\n",
    "        return len(self.samples)\n",
    "\n",
    "batch_size = 32\n",
    "dataset = NpyFolder('/kaggle/working/ddset')\n",
    "data_loader = torch.utils.data.DataLoader(dataset, batch_size=batch_size, shuffle=True)"
   ],
   "metadata": {
    "collapsed": false,
    "pycharm": {
     "name": "#%%\n"
    }
   }
  },
  {
   "cell_type": "code",
   "execution_count": null,
   "outputs": [],
   "source": [
    "num_classes = len(dataset.classes)\n",
    "print(f'Number of classes: {num_classes}')"
   ],
   "metadata": {
    "collapsed": false,
    "pycharm": {
     "name": "#%%\n"
    }
   }
  },
  {
   "cell_type": "code",
   "execution_count": null,
   "outputs": [],
   "source": [
    "class DCFNN(nn.Module):\n",
    "    def __init__(self):\n",
    "        super().__init__()\n",
    "        self.conv1 = nn.Conv2d(in_channels=1, out_channels=3, kernel_size=(3, 1), stride=(3, 1))\n",
    "        self.dropout1 = nn.Dropout2d(p=0.5)\n",
    "        self.conv2 = nn.Conv3d(in_channels=1, out_channels=1, kernel_size=(3, 2, 1), stride=(1, 1, 1))\n",
    "        self.dropout2 = nn.Dropout3d(p=0.5)\n",
    "        self.fnn1 = nn.Linear(in_features=1258, out_features=512)\n",
    "        self.fnn2 = nn.Linear(in_features=512, out_features=256)\n",
    "        self.fnn3 = nn.Linear(in_features=256, out_features=100)\n",
    "\n",
    "    def forward(self, x):\n",
    "        x = self.conv1(x)\n",
    "        x = torch.relu(x)\n",
    "        x = self.dropout1(x)\n",
    "        x = x.unsqueeze(1) # Add an additional dimension\n",
    "        x = self.conv2(x)\n",
    "        x = torch.relu(x)\n",
    "        x = self.dropout2(x)\n",
    "        x = x.flatten(start_dim=1) # Flatten all dimensions except for the first one\n",
    "        x = self.fnn1(x)\n",
    "        x = torch.relu(x)\n",
    "        x = self.fnn2(x)\n",
    "        x = torch.relu(x)\n",
    "        x = self.fnn3(x)\n",
    "        x = torch.log_softmax(x, dim=1)\n",
    "        return x"
   ],
   "metadata": {
    "collapsed": false,
    "pycharm": {
     "name": "#%%\n"
    }
   }
  },
  {
   "cell_type": "code",
   "execution_count": null,
   "outputs": [],
   "source": [
    "from tqdm import tqdm\n",
    "from sklearn.model_selection import KFold\n",
    "\n",
    "def to_device(obj):\n",
    "    device = torch.device('cuda' if torch.cuda.is_available() else 'cpu')\n",
    "    return obj.to(device)\n",
    "\n",
    "def train_kfold(model, data_loader, k=5):\n",
    "    kfold = KFold(n_splits=k)\n",
    "    losses = []\n",
    "    accuracies = []\n",
    "    criterion = nn.CrossEntropyLoss()\n",
    "    optimizer = torch.optim.Adam(model.parameters(), lr=0.001)\n",
    "#     criterion = nn.NLLLoss()\n",
    "\n",
    "    # Move model to device\n",
    "    model = to_device(model)\n",
    "\n",
    "    for fold, (train_idx, val_idx) in enumerate(kfold.split(data_loader.dataset)):\n",
    "        print(f'Fold {fold + 1}')\n",
    "        train_subsampler = torch.utils.data.SubsetRandomSampler(train_idx)\n",
    "        val_subsampler = torch.utils.data.SubsetRandomSampler(val_idx)\n",
    "        train_loader = torch.utils.data.DataLoader(data_loader.dataset, batch_size=64, sampler=train_subsampler)\n",
    "        val_loader = torch.utils.data.DataLoader(data_loader.dataset, batch_size=64, sampler=val_subsampler)\n",
    "\n",
    "        # Training\n",
    "        model.train()\n",
    "        for epoch in range(20): # Set the number of epochs\n",
    "            for batch in tqdm(train_loader):\n",
    "                optimizer.zero_grad()\n",
    "                inputs, labels = batch\n",
    "                inputs = to_device(inputs.float()) # Convert inputs to float and move to device\n",
    "                labels = to_device(labels)\n",
    "                inputs = inputs.unsqueeze(1)\n",
    "                outputs = model(inputs)\n",
    "                loss = criterion(outputs, labels)\n",
    "                loss.backward()\n",
    "                optimizer.step()\n",
    "\n",
    "                # Your training code here\n",
    "\n",
    "                pass\n",
    "\n",
    "            # Validation\n",
    "            model.eval()\n",
    "            val_loss = 0\n",
    "            val_correct = 0\n",
    "            with torch.no_grad():\n",
    "                for batch in tqdm(val_loader):\n",
    "                    inputs, labels = batch\n",
    "                    inputs = to_device(inputs.float()) # Convert inputs to float and move to device\n",
    "                    labels = to_device(labels)\n",
    "                    inputs = inputs.unsqueeze(1)\n",
    "                    outputs = model(inputs)\n",
    "                    loss = criterion(outputs, labels)\n",
    "                    val_loss += loss.item()\n",
    "                    _, preds = torch.max(outputs, dim=1)\n",
    "                    val_correct += (preds == labels).sum().item()\n",
    "\n",
    "                    # Your validation code here\n",
    "\n",
    "                    pass\n",
    "\n",
    "            # Calculate average loss and accuracy for this fold\n",
    "            avg_loss = val_loss / len(val_loader.dataset)\n",
    "            accuracy = val_correct / len(val_loader.dataset)\n",
    "\n",
    "            # Save loss and accuracy for this fold\n",
    "            losses.append(avg_loss)\n",
    "            accuracies.append(accuracy)\n",
    "\n",
    "            print(f'Epoch {epoch + 1}, Average loss: {avg_loss:.4f}, Accuracy: {accuracy:.4f}')\n",
    "\n",
    "        # Save model weights\n",
    "        torch.save(model.state_dict(), f'model_fold_{fold + 1}.pt')\n",
    "\n",
    "    return losses, accuracies"
   ],
   "metadata": {
    "collapsed": false,
    "pycharm": {
     "name": "#%%\n"
    }
   }
  },
  {
   "cell_type": "code",
   "execution_count": null,
   "outputs": [],
   "source": [
    "from tqdm import tqdm\n",
    "from sklearn.model_selection import train_test_split\n",
    "\n",
    "def to_device(obj):\n",
    "    device = torch.device('cuda' if torch.cuda.is_available() else 'cpu')\n",
    "    return obj.to(device)\n",
    "\n",
    "def train(model, data_loader):\n",
    "    losses = []\n",
    "    accuracies = []\n",
    "    criterion = nn.CrossEntropyLoss()\n",
    "    optimizer = torch.optim.Adam(model.parameters(), lr=0.0001)\n",
    "    criterion = nn.NLLLoss()\n",
    "    # Move model to device\n",
    "    model = to_device(model)\n",
    "\n",
    "    # Split data into train and validation sets\n",
    "    train_idx, val_idx = train_test_split(range(len(data_loader.dataset)), test_size=0.2)\n",
    "    train_subsampler = torch.utils.data.SubsetRandomSampler(train_idx)\n",
    "    val_subsampler = torch.utils.data.SubsetRandomSampler(val_idx)\n",
    "    train_loader = torch.utils.data.DataLoader(data_loader.dataset, batch_size=64, sampler=train_subsampler)\n",
    "    val_loader = torch.utils.data.DataLoader(data_loader.dataset, batch_size=64, sampler=val_subsampler)\n",
    "\n",
    "    # Training\n",
    "    model.train()\n",
    "    for epoch in range(100): # Set the number of epochs\n",
    "        for batch in tqdm(train_loader):\n",
    "            optimizer.zero_grad()\n",
    "            inputs, labels = batch\n",
    "            inputs = to_device(inputs.float()) # Convert inputs to float and move to device\n",
    "            labels = to_device(labels)\n",
    "            inputs = inputs.unsqueeze(1)\n",
    "            outputs = model(inputs)\n",
    "            loss = criterion(outputs, labels)\n",
    "            loss.backward()\n",
    "            optimizer.step()\n",
    "\n",
    "            # Your training code here\n",
    "\n",
    "            pass\n",
    "\n",
    "        # Validation\n",
    "        model.eval()\n",
    "        val_loss = 0\n",
    "        val_correct = 0\n",
    "        with torch.no_grad():\n",
    "            for batch in tqdm(val_loader):\n",
    "                inputs, labels = batch\n",
    "                inputs = to_device(inputs.float()) # Convert inputs to float and move to device\n",
    "                labels = to_device(labels)\n",
    "                inputs = inputs.unsqueeze(1)\n",
    "                outputs = model(inputs)\n",
    "                loss = criterion(outputs, labels)\n",
    "                val_loss += loss.item()\n",
    "                _, preds = torch.max(outputs, dim=1)\n",
    "                val_correct += (preds == labels).sum().item()\n",
    "\n",
    "                # Your validation code here\n",
    "\n",
    "                pass\n",
    "\n",
    "        # Calculate average loss and accuracy for this fold\n",
    "        avg_loss = val_loss / len(val_loader.dataset)\n",
    "        accuracy = val_correct / len(val_loader.dataset)\n",
    "\n",
    "        # Save loss and accuracy for this fold\n",
    "        losses.append(avg_loss)\n",
    "        accuracies.append(accuracy)\n",
    "\n",
    "        print(f'Epoch {epoch + 1}, Average loss: {avg_loss:.4f}, Accuracy: {accuracy:.4f}')\n",
    "\n",
    "    # Save model weights\n",
    "    torch.save(model.state_dict(), 'model.pt')\n",
    "\n",
    "    return losses, accuracies"
   ],
   "metadata": {
    "collapsed": false,
    "pycharm": {
     "name": "#%%\n"
    }
   }
  },
  {
   "cell_type": "code",
   "execution_count": null,
   "outputs": [],
   "source": [
    "dcfnn = DCFNN()\n",
    "train(dcfnn,data_loader)"
   ],
   "metadata": {
    "collapsed": false,
    "pycharm": {
     "name": "#%%\n"
    }
   }
  },
  {
   "cell_type": "code",
   "execution_count": null,
   "outputs": [],
   "source": [],
   "metadata": {
    "collapsed": false,
    "pycharm": {
     "name": "#%%\n"
    }
   }
  },
  {
   "cell_type": "code",
   "execution_count": null,
   "outputs": [],
   "source": [],
   "metadata": {
    "collapsed": false,
    "pycharm": {
     "name": "#%%\n"
    }
   }
  }
 ],
 "metadata": {
  "kernelspec": {
   "display_name": "Python 3",
   "language": "python",
   "name": "python3"
  },
  "language_info": {
   "codemirror_mode": {
    "name": "ipython",
    "version": 2
   },
   "file_extension": ".py",
   "mimetype": "text/x-python",
   "name": "python",
   "nbconvert_exporter": "python",
   "pygments_lexer": "ipython2",
   "version": "2.7.6"
  }
 },
 "nbformat": 4,
 "nbformat_minor": 0
}