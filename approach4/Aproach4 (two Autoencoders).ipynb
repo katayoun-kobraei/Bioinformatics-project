{
 "cells": [
  {
   "cell_type": "code",
   "execution_count": null,
   "metadata": {
    "collapsed": true
   },
   "outputs": [],
   "source": [
    "from numpy.random import seed\n",
    "from sklearn.decomposition import PCA\n",
    "import sqlite3\n",
    "import numpy as np\n",
    "import pandas as pd\n",
    "from tqdm import tqdm\n",
    "import warnings\n",
    "warnings.filterwarnings('ignore')"
   ]
  },
  {
   "cell_type": "code",
   "execution_count": null,
   "outputs": [],
   "source": [
    "df_drug = pd.read_pickle('/kaggle/input/datasetname/df.pkl')\n",
    "conn = sqlite3.connect(\"/kaggle/input/datasetname/event.db\")\n",
    "extraction = pd.read_sql('select * from extraction;', conn)\n",
    "extraction.drop(columns=['index'], inplace = True)"
   ],
   "metadata": {
    "collapsed": false,
    "pycharm": {
     "name": "#%%\n"
    }
   }
  },
  {
   "cell_type": "code",
   "execution_count": null,
   "outputs": [],
   "source": [
    "df_drug.drop(columns=['index', 'id'], inplace=True)"
   ],
   "metadata": {
    "collapsed": false,
    "pycharm": {
     "name": "#%%\n"
    }
   }
  },
  {
   "cell_type": "code",
   "execution_count": null,
   "outputs": [],
   "source": [
    "def feature_extractor(df, f_list):\n",
    "    for feature in f_list:\n",
    "        unique = set('|'.join(df[feature].values.tolist()).split('|'))\n",
    "\n",
    "        for side in unique:\n",
    "            df[side] = 0\n",
    "\n",
    "        for index, row in df.iterrows():\n",
    "            for side in row[feature].split('|'):\n",
    "                df.at[index, side] = 1\n",
    "    df.drop(columns=f_list, inplace=True)"
   ],
   "metadata": {
    "collapsed": false,
    "pycharm": {
     "name": "#%%\n"
    }
   }
  },
  {
   "cell_type": "code",
   "execution_count": null,
   "outputs": [],
   "source": [
    "f_list = ['side', 'target', 'enzyme', 'pathway', 'smile']\n",
    "\n",
    "feature_extractor(df_drug, f_list)"
   ],
   "metadata": {
    "collapsed": false,
    "pycharm": {
     "name": "#%%\n"
    }
   }
  },
  {
   "cell_type": "code",
   "execution_count": null,
   "outputs": [],
   "source": [
    "from torch.utils.data import Dataset, DataLoader\n",
    "\n",
    "class DrugDataset(Dataset):\n",
    "    def __init__(self, df):\n",
    "        self.data = torch.tensor(df.values.astype('float32'))\n",
    "\n",
    "    def __len__(self):\n",
    "        return len(self.data)\n",
    "\n",
    "    def __getitem__(self, idx):\n",
    "        return self.data[idx]"
   ],
   "metadata": {
    "collapsed": false,
    "pycharm": {
     "name": "#%%\n"
    }
   }
  },
  {
   "cell_type": "code",
   "execution_count": null,
   "outputs": [],
   "source": [
    "import torch\n",
    "import torch.nn as nn\n",
    "import torch.optim as optim\n",
    "from tqdm import tqdm\n",
    "\n",
    "device = torch.device(\"cuda\" if torch.cuda.is_available() else \"cpu\")\n",
    "\n",
    "def train_autoencoder(autoencoder, train_loader, test_loader, num_epochs):\n",
    "    criterion = nn.MSELoss()\n",
    "    optimizer = optim.RMSprop(autoencoder.parameters(), lr=0.01)\n",
    "    for epoch in range(num_epochs):\n",
    "        # train the autoencoder\n",
    "        running_train_loss = 0.0\n",
    "        num_train_correct = 0\n",
    "        num_train_total = 0\n",
    "        train_pbar = tqdm(train_loader, desc=f\"Epoch {epoch+1}/{num_epochs} (training)\")\n",
    "        for data in train_pbar:\n",
    "            data = data.to(device)\n",
    "            inputs = data\n",
    "            optimizer.zero_grad()\n",
    "            outputs = autoencoder(data)\n",
    "            loss = criterion(outputs, inputs)\n",
    "            loss.backward()\n",
    "            optimizer.step()\n",
    "            running_train_loss += loss.item()\n",
    "\n",
    "            predicted = (outputs > 0.5).float()\n",
    "            num_train_correct += (predicted == inputs).sum().item()\n",
    "            num_train_total += inputs.numel()\n",
    "\n",
    "            train_pbar.set_postfix({'Loss': loss.item(), 'Accuracy': (predicted == inputs).sum().item() / inputs.numel()})\n",
    "\n",
    "        # test the autoencoder\n",
    "        running_test_loss = 0.0\n",
    "        num_test_correct = 0\n",
    "        num_test_total = 0\n",
    "        test_pbar = tqdm(test_loader, desc=f\"Epoch {epoch+1}/{num_epochs} (testing)\")\n",
    "        with torch.no_grad():\n",
    "            for data in test_pbar:\n",
    "                data = data.to(device)\n",
    "                inputs = data\n",
    "                outputs = autoencoder(data)\n",
    "                loss = criterion(outputs, inputs)\n",
    "                running_test_loss += loss.item()\n",
    "\n",
    "                predicted = (outputs > 0.5).float()\n",
    "                num_test_correct += (predicted == inputs).sum().item()\n",
    "                num_test_total += inputs.numel()\n",
    "\n",
    "                test_pbar.set_postfix({'Loss': loss.item(), 'Accuracy': (predicted == inputs).sum().item() / inputs.numel()})\n",
    "\n",
    "        train_loss = running_train_loss / len(train_loader)\n",
    "        train_acc = num_train_correct / num_train_total\n",
    "        test_loss = running_test_loss / len(test_loader)\n",
    "        test_acc = num_test_correct / num_test_total\n",
    "\n",
    "        print('Epoch [{}/{}], Train Loss: {:.4f}, Train Acc: {:.4f}, Test Loss: {:.4f}, Test Acc: {:.4f}'.format(epoch+1, num_epochs, train_loss, train_acc, test_loss, test_acc))"
   ],
   "metadata": {
    "collapsed": false,
    "pycharm": {
     "name": "#%%\n"
    }
   }
  },
  {
   "cell_type": "code",
   "execution_count": null,
   "outputs": [],
   "source": [
    "class Autoencoder(nn.Module):\n",
    "    def __init__(self, input_dim, latent_dim):\n",
    "        super(Autoencoder, self).__init__()\n",
    "        self.encoder = nn.Sequential(\n",
    "            nn.Linear(input_dim, latent_dim),\n",
    "            nn.ReLU()\n",
    "        )\n",
    "\n",
    "        self.decoder = nn.Sequential(\n",
    "            nn.Linear(latent_dim, input_dim),\n",
    "            nn.Sigmoid()\n",
    "        )\n",
    "\n",
    "    def forward(self, x):\n",
    "        encoded = self.encoder(x)\n",
    "\n",
    "        decoded = self.decoder(encoded)\n",
    "        return decoded"
   ],
   "metadata": {
    "collapsed": false,
    "pycharm": {
     "name": "#%%\n"
    }
   }
  },
  {
   "cell_type": "code",
   "execution_count": null,
   "outputs": [],
   "source": [
    "input_dim = 12_829\n",
    "latent_dim = 1024 * 4\n",
    "num_epochs = 100\n",
    "batch_size = 32\n",
    "\n",
    "autoencoder = Autoencoder(input_dim, latent_dim).to(device)\n",
    "\n",
    "from sklearn.model_selection import train_test_split\n",
    "\n",
    "df_train, df_test = train_test_split(df_drug, test_size=0.2, random_state=42)\n",
    "\n",
    "\n",
    "train_dataset = DrugDataset(df_train.drop(columns=['name']))\n",
    "test_dataset = DrugDataset(df_test.drop(columns=['name']))\n",
    "\n",
    "train_loader = DataLoader(train_dataset, batch_size=32, shuffle=True)\n",
    "test_loader = DataLoader(test_dataset, batch_size=32, shuffle=True)\n",
    "\n",
    "train_autoencoder(autoencoder, train_loader, test_loader, num_epochs)"
   ],
   "metadata": {
    "collapsed": false,
    "pycharm": {
     "name": "#%%\n"
    }
   }
  },
  {
   "cell_type": "code",
   "execution_count": null,
   "outputs": [],
   "source": [
    "encoder = autoencoder.encoder\n",
    "for param in encoder:\n",
    "    param.requires_grad = False"
   ],
   "metadata": {
    "collapsed": false,
    "pycharm": {
     "name": "#%%\n"
    }
   }
  },
  {
   "cell_type": "code",
   "execution_count": null,
   "outputs": [],
   "source": [
    "extraction['side'] = extraction['mechanism'] + extraction['action']\n",
    "extraction.drop(columns=['mechanism', 'action'], inplace=True)\n",
    "from sklearn import preprocessing\n",
    "le = preprocessing.LabelEncoder()\n",
    "extraction['side'] = le.fit_transform(extraction['side'])"
   ],
   "metadata": {
    "collapsed": false,
    "pycharm": {
     "name": "#%%\n"
    }
   }
  },
  {
   "cell_type": "code",
   "execution_count": null,
   "outputs": [],
   "source": [
    "class PairedDrugDataset(Dataset):\n",
    "    def __init__(self, df):\n",
    "        self.data = torch.tensor(df.values.astype('float32'))\n",
    "        self.indices = [(i, j) for i in range(len(self.data)) for j in range(i + 1, len(self.data))]\n",
    "\n",
    "    def __len__(self):\n",
    "        return len(self.indices)\n",
    "\n",
    "    def __getitem__(self, idx):\n",
    "        idx1, idx2 = self.indices[idx]\n",
    "        pair = torch.cat([encoder(torch.tensor(self.data[idx1]).to(device)), encoder(torch.tensor(self.data[idx2]).to(device))])\n",
    "        return pair"
   ],
   "metadata": {
    "collapsed": false,
    "pycharm": {
     "name": "#%%\n"
    }
   }
  },
  {
   "cell_type": "code",
   "execution_count": null,
   "outputs": [],
   "source": [
    "df_train, df_test = train_test_split(df_drug, test_size=0.2, random_state=42)\n",
    "\n",
    "\n",
    "train_dataset = PairedDrugDataset(df_train.drop(columns=['name']))\n",
    "test_dataset = PairedDrugDataset(df_test.drop(columns=['name']))"
   ],
   "metadata": {
    "collapsed": false,
    "pycharm": {
     "name": "#%%\n"
    }
   }
  },
  {
   "cell_type": "code",
   "execution_count": null,
   "outputs": [],
   "source": [
    "autoencoder2 = Autoencoder(2*4096, 4096).to(device)\n",
    "train_loader = DataLoader(train_dataset, batch_size=32, shuffle=True)\n",
    "test_loader = DataLoader(test_dataset, batch_size=32, shuffle=True)\n",
    "\n",
    "train_autoencoder(autoencoder2, train_loader, test_loader, num_epochs)"
   ],
   "metadata": {
    "collapsed": false,
    "pycharm": {
     "name": "#%%\n"
    }
   }
  },
  {
   "cell_type": "code",
   "execution_count": null,
   "outputs": [],
   "source": [
    "class DrugDrugInteractionDataset(Dataset):\n",
    "    def __init__(self, df, extraction, encoder1, encoder2):\n",
    "        self.drug_data = torch.tensor(df.values.astype('float32'))\n",
    "        self.extraction = extraction\n",
    "        self.encoder1 = encoder1\n",
    "        self.encoder2 = encoder2\n",
    "    def __len__(self):\n",
    "        return len(self.extraction)\n",
    "\n",
    "    def __getitem__(self, idx):\n",
    "        drugA = torch.tensor(self.df[self.df['name'] == self.extraction.loc[0]['drugA']].drop(columns=['name']).values.astype('float32')).to(device)\n",
    "        drugB = torch.tensor(self.df[self.df['name'] == self.extraction.loc[0]['drugB']].drop(columns=['name']).values.astype('float32')).to(device)\n",
    "\n",
    "        return self.encoder2(torch.cat([self.encoder1(drugA),self.encoder1(drugB)])) , self.extraction.loc[idx]['side']"
   ],
   "metadata": {
    "collapsed": false,
    "pycharm": {
     "name": "#%%\n"
    }
   }
  },
  {
   "cell_type": "code",
   "execution_count": null,
   "outputs": [],
   "source": [
    "class ClassificationModel(nn.Module):\n",
    "    def __init__(self, input_size):\n",
    "        super(ClassificationModel, self).__init__()\n",
    "        self.fc1 = nn.Linear(input_size, 256)\n",
    "        self.fc2 = nn.Linear(256, 65)\n",
    "\n",
    "    def forward(self, x):\n",
    "        x = x.view(-1) # Flatten the input tensor\n",
    "        x = nn.functional.relu(self.fc1(x))\n",
    "        x = self.fc2(x)\n",
    "        return nn.functional.softmax(x)"
   ],
   "metadata": {
    "collapsed": false,
    "pycharm": {
     "name": "#%%\n"
    }
   }
  },
  {
   "cell_type": "code",
   "execution_count": null,
   "outputs": [],
   "source": [],
   "metadata": {
    "collapsed": false,
    "pycharm": {
     "name": "#%%\n"
    }
   }
  }
 ],
 "metadata": {
  "kernelspec": {
   "display_name": "Python 3",
   "language": "python",
   "name": "python3"
  },
  "language_info": {
   "codemirror_mode": {
    "name": "ipython",
    "version": 2
   },
   "file_extension": ".py",
   "mimetype": "text/x-python",
   "name": "python",
   "nbconvert_exporter": "python",
   "pygments_lexer": "ipython2",
   "version": "2.7.6"
  }
 },
 "nbformat": 4,
 "nbformat_minor": 0
}